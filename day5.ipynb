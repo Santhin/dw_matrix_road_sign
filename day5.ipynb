{
  "nbformat": 4,
  "nbformat_minor": 0,
  "metadata": {
    "colab": {
      "name": "day5.ipynb",
      "provenance": [],
      "mount_file_id": "1JQ42M7CmVyURjzBmrPal6V2TKMjPVJAo",
      "authorship_tag": "ABX9TyPO6GgkokNVqayGbOj2o0P0",
      "include_colab_link": true
    },
    "kernelspec": {
      "name": "python3",
      "display_name": "Python 3"
    },
    "accelerator": "GPU"
  },
  "cells": [
    {
      "cell_type": "markdown",
      "metadata": {
        "id": "view-in-github",
        "colab_type": "text"
      },
      "source": [
        "<a href=\"https://colab.research.google.com/github/Santhin/dw_matrix_road_sign/blob/master/day5.ipynb\" target=\"_parent\"><img src=\"https://colab.research.google.com/assets/colab-badge.svg\" alt=\"Open In Colab\"/></a>"
      ]
    },
    {
      "cell_type": "code",
      "metadata": {
        "id": "NU8EmjSVvB4g",
        "colab_type": "code",
        "outputId": "a7edf9ac-6fb7-466a-f453-0bf50bd1da89",
        "colab": {
          "base_uri": "https://localhost:8080/",
          "height": 187
        }
      },
      "source": [
        "!pip install hyperopt"
      ],
      "execution_count": 6,
      "outputs": [
        {
          "output_type": "stream",
          "text": [
            "ERROR! Session/line number was not unique in database. History logging moved to new session 63\n",
            "Requirement already satisfied: hyperopt in /usr/local/lib/python3.6/dist-packages (0.1.2)\n",
            "Requirement already satisfied: networkx in /usr/local/lib/python3.6/dist-packages (from hyperopt) (2.4)\n",
            "Requirement already satisfied: six in /usr/local/lib/python3.6/dist-packages (from hyperopt) (1.12.0)\n",
            "Requirement already satisfied: future in /usr/local/lib/python3.6/dist-packages (from hyperopt) (0.16.0)\n",
            "Requirement already satisfied: tqdm in /usr/local/lib/python3.6/dist-packages (from hyperopt) (4.38.0)\n",
            "Requirement already satisfied: numpy in /usr/local/lib/python3.6/dist-packages (from hyperopt) (1.18.2)\n",
            "Requirement already satisfied: pymongo in /usr/local/lib/python3.6/dist-packages (from hyperopt) (3.10.1)\n",
            "Requirement already satisfied: scipy in /usr/local/lib/python3.6/dist-packages (from hyperopt) (1.4.1)\n",
            "Requirement already satisfied: decorator>=4.3.0 in /usr/local/lib/python3.6/dist-packages (from networkx->hyperopt) (4.4.2)\n"
          ],
          "name": "stdout"
        }
      ]
    },
    {
      "cell_type": "code",
      "metadata": {
        "id": "qoJf2PnXxL71",
        "colab_type": "code",
        "colab": {}
      },
      "source": [
        "import pandas as pd\n",
        "import numpy as np\n",
        "import os\n",
        "import datetime\n",
        "import tensorflow as tf\n",
        "from tensorflow.keras.models import Sequential\n",
        "from tensorflow.keras.layers import Conv2D, MaxPool2D, Dense, Flatten, Dropout\n",
        "from tensorflow.keras.utils import to_categorical\n",
        "import matplotlib.pyplot as plt\n",
        "from skimage import color, exposure\n",
        "from sklearn.metrics import accuracy_score\n",
        "from hyperopt import hp, STATUS_OK, tpe, Trials, fmin"
      ],
      "execution_count": 0,
      "outputs": []
    },
    {
      "cell_type": "code",
      "metadata": {
        "id": "X0rp7w3xxVb6",
        "colab_type": "code",
        "outputId": "479779e9-5e23-49b6-a8fb-3f4827064b6a",
        "colab": {
          "base_uri": "https://localhost:8080/",
          "height": 34
        }
      },
      "source": [
        "cd '/content/drive/My Drive/Colab Notebooks/dw_matrix/matrix_three/dw_matrix_road_sign'"
      ],
      "execution_count": 8,
      "outputs": [
        {
          "output_type": "stream",
          "text": [
            "/content/drive/My Drive/Colab Notebooks/dw_matrix/matrix_three/dw_matrix_road_sign\n"
          ],
          "name": "stdout"
        }
      ]
    },
    {
      "cell_type": "code",
      "metadata": {
        "id": "iBINyu26y32q",
        "colab_type": "code",
        "colab": {
          "base_uri": "https://localhost:8080/",
          "height": 51
        },
        "outputId": "cc00ba92-4c5c-42bb-b167-66a902f9a4de"
      },
      "source": [
        "ls"
      ],
      "execution_count": 9,
      "outputs": [
        {
          "output_type": "stream",
          "text": [
            "\u001b[0m\u001b[01;34mdata\u001b[0m/       day2.ipynb  day4.ipynb  \u001b[01;34mlogs\u001b[0m/\n",
            "day1.ipynb  day3.ipynb  LICENSE     README.md\n"
          ],
          "name": "stdout"
        }
      ]
    },
    {
      "cell_type": "code",
      "metadata": {
        "id": "k1fvsQfOyEtC",
        "colab_type": "code",
        "colab": {}
      },
      "source": [
        "train=pd.read_pickle('data/train.p')\n",
        "test=pd.read_pickle('data/test.p')\n",
        "X_train,y_train=train['features'],train['labels']\n",
        "X_test, y_test=test['features'], test['labels']\n",
        "if y_train.ndim==1: y_train=to_categorical(y_train)\n",
        "if y_test.ndim==1: y_test=to_categorical(y_test)\n",
        "\n",
        "input_shape=X_train.shape[1:]\n",
        "num_classes= y_train.shape[1]"
      ],
      "execution_count": 0,
      "outputs": []
    },
    {
      "cell_type": "code",
      "metadata": {
        "id": "zkDffN6xzYgR",
        "colab_type": "code",
        "colab": {}
      },
      "source": [
        "def train_model(model,X_train,y_train, params_fit={}):\n",
        "       model.compile(loss='categorical_crossentropy',optimizer='Adam',metrics=['accuracy'])\n",
        "       \n",
        "       logdir=os.path.join('logs',datetime.datetime.now().strftime(\"%Y%m%d-$H%M%S\"))\n",
        "       tensorboard_callback=tf.keras.callbacks.TensorBoard(logdir, histogram_freq=1)\n",
        "       \n",
        "       \n",
        "       model.fit(\n",
        "           X_train,\n",
        "           y_train,\n",
        "           batch_size=params_fit.get('batch_size',128),\n",
        "           epochs=params_fit.get('epochs',5),\n",
        "           verbose=params_fit.get('verbose',1),\n",
        "           validation_data=params_fit.get('validation_data',(X_train,y_train)),\n",
        "           callbacks=[tensorboard_callback]\n",
        "                )\n",
        "       return model"
      ],
      "execution_count": 0,
      "outputs": []
    },
    {
      "cell_type": "code",
      "metadata": {
        "id": "k_S9nBJPzdwP",
        "colab_type": "code",
        "colab": {}
      },
      "source": [
        "def predict(trained_model, X_test, y_test, scoring=accuracy_score):\n",
        "  y_test_norm = np.argmax(y_test, axis=1)\n",
        "\n",
        "  y_pred_prob = trained_model.predict(X_test)\n",
        "  y_pred = np.argmax(y_pred_prob, axis=1)\n",
        "\n",
        "  return scoring(y_test_norm, y_pred)"
      ],
      "execution_count": 0,
      "outputs": []
    },
    {
      "cell_type": "code",
      "metadata": {
        "id": "JxskADTwz452",
        "colab_type": "code",
        "colab": {}
      },
      "source": [
        "\n",
        "def get_cnn_v5(input_shape,num_classes):\n",
        "     return Sequential([\n",
        "     Conv2D(filters=32, kernel_size=(3,3),activation='relu',input_shape=input_shape),\n",
        "     Conv2D(filters=32, kernel_size=(3,3),activation='relu', padding='same'),\n",
        "     MaxPool2D(),\n",
        "     Dropout(0.3),\n",
        "\n",
        "\n",
        "     Conv2D(filters=64, kernel_size=(3,3),activation='relu', padding='same'),\n",
        "     Conv2D(filters=64, kernel_size=(3,3),activation='relu'),\n",
        "     MaxPool2D(),\n",
        "     Dropout(0.3),\n",
        "\n",
        "     Conv2D(filters=64, kernel_size=(3,3),activation='relu', padding='same'),\n",
        "     Conv2D(filters=64, kernel_size=(3,3),activation='relu'),\n",
        "     MaxPool2D(),\n",
        "     Dropout(0.3),\n",
        "     \n",
        "     Flatten(),\n",
        "\n",
        "     Dense(1024, activation='relu'),            \n",
        "     Dropout(0.3),\n",
        "\n",
        "     Dense(1024, activation='relu'),            \n",
        "     Dropout(0.3),\n",
        "\n",
        "     Dense(num_classes, activation='softmax'),  \n",
        "    ])\n",
        "\n",
        "\n"
      ],
      "execution_count": 0,
      "outputs": []
    },
    {
      "cell_type": "code",
      "metadata": {
        "id": "m_LjcV_T0GrL",
        "colab_type": "code",
        "colab": {
          "base_uri": "https://localhost:8080/",
          "height": 204
        },
        "outputId": "2a6363e1-ac67-4b9d-c11f-e8700fba6c76"
      },
      "source": [
        "model=get_cnn_v5(input_shape,num_classes)\n",
        "model_trained=train_model(model,X_train,y_train)\n",
        "predict(model_trained,X_test,y_test)"
      ],
      "execution_count": 16,
      "outputs": [
        {
          "output_type": "stream",
          "text": [
            "Epoch 1/5\n",
            "272/272 [==============================] - 6s 23ms/step - loss: 2.2931 - accuracy: 0.3456 - val_loss: 0.8930 - val_accuracy: 0.7297\n",
            "Epoch 2/5\n",
            "272/272 [==============================] - 6s 22ms/step - loss: 0.7269 - accuracy: 0.7634 - val_loss: 0.1899 - val_accuracy: 0.9396\n",
            "Epoch 3/5\n",
            "272/272 [==============================] - 6s 22ms/step - loss: 0.3653 - accuracy: 0.8824 - val_loss: 0.1077 - val_accuracy: 0.9655\n",
            "Epoch 4/5\n",
            "272/272 [==============================] - 6s 22ms/step - loss: 0.2521 - accuracy: 0.9224 - val_loss: 0.0534 - val_accuracy: 0.9846\n",
            "Epoch 5/5\n",
            "272/272 [==============================] - 6s 22ms/step - loss: 0.1897 - accuracy: 0.9431 - val_loss: 0.0377 - val_accuracy: 0.9883\n"
          ],
          "name": "stdout"
        },
        {
          "output_type": "execute_result",
          "data": {
            "text/plain": [
              "0.9702947845804989"
            ]
          },
          "metadata": {
            "tags": []
          },
          "execution_count": 16
        }
      ]
    },
    {
      "cell_type": "code",
      "metadata": {
        "id": "S4kYzVZ-3YQS",
        "colab_type": "code",
        "colab": {
          "base_uri": "https://localhost:8080/",
          "height": 51
        },
        "outputId": "06046c2f-0d4d-474b-d27a-c925af8ea458"
      },
      "source": [
        "model_trained.evaluate(X_test,y_test)"
      ],
      "execution_count": 18,
      "outputs": [
        {
          "output_type": "stream",
          "text": [
            "138/138 [==============================] - 0s 4ms/step - loss: 0.1509 - accuracy: 0.9703\n"
          ],
          "name": "stdout"
        },
        {
          "output_type": "execute_result",
          "data": {
            "text/plain": [
              "[0.15092234313488007, 0.9702947735786438]"
            ]
          },
          "metadata": {
            "tags": []
          },
          "execution_count": 18
        }
      ]
    },
    {
      "cell_type": "code",
      "metadata": {
        "id": "xb6b4TpE5dQD",
        "colab_type": "code",
        "colab": {}
      },
      "source": [
        "def get_model(params):\n",
        "     return Sequential([\n",
        "     Conv2D(filters=32, kernel_size=(3,3),activation='relu',input_shape=input_shape),\n",
        "     Conv2D(filters=32, kernel_size=(3,3),activation='relu', padding='same'),\n",
        "     MaxPool2D(),\n",
        "     Dropout(params['dropout_cnn_block_one']),\n",
        "\n",
        "\n",
        "     Conv2D(filters=64, kernel_size=(3,3),activation='relu', padding='same'),\n",
        "     Conv2D(filters=64, kernel_size=(3,3),activation='relu'),\n",
        "     MaxPool2D(),\n",
        "     Dropout(params['dropout_cnn_block_two']),\n",
        "\n",
        "     Conv2D(filters=128, kernel_size=(3,3),activation='relu', padding='same'),\n",
        "     Conv2D(filters=128, kernel_size=(3,3),activation='relu'),\n",
        "     MaxPool2D(),\n",
        "     Dropout(params['dropout_cnn_block_three']),\n",
        "     \n",
        "     Flatten(),\n",
        "\n",
        "     Dense(1024, activation='relu'),            \n",
        "     Dropout(params['dropout_dense_block_one']),\n",
        "\n",
        "     Dense(1024, activation='relu'),            \n",
        "     Dropout(params['dropout_dense_block_two']),\n",
        "\n",
        "     Dense(num_classes, activation='softmax'),  \n",
        "    ])\n"
      ],
      "execution_count": 0,
      "outputs": []
    },
    {
      "cell_type": "code",
      "metadata": {
        "id": "qK0AV98T07xq",
        "colab_type": "code",
        "colab": {}
      },
      "source": [
        "def func_obj(params):\n",
        "       model=get_model(params)\n",
        "       model.compile(loss='categorical_crossentropy',optimizer='Adam',metrics=['accuracy'])\n",
        "       model.fit(\n",
        "           X_train,\n",
        "           y_train,\n",
        "           batch_size=int(params.get('batch_size',128)),\n",
        "           epochs=5,\n",
        "           verbose=0,\n",
        "                )\n",
        "       \n",
        "       score=model.evaluate(X_test,y_test,verbose=0)\n",
        "       accuracy=score[1]\n",
        "       print(params,'accurarcy={}'.format(accuracy))\n",
        "       return {\"loss\":-accuracy, 'status':STATUS_OK, 'model':model}"
      ],
      "execution_count": 0,
      "outputs": []
    },
    {
      "cell_type": "code",
      "metadata": {
        "id": "3mFDRRJ24Ls5",
        "colab_type": "code",
        "colab": {
          "base_uri": "https://localhost:8080/",
          "height": 1000
        },
        "outputId": "b428f539-eac8-4b8b-958f-282a63ba997e"
      },
      "source": [
        "space={\n",
        "    'batch_size' : hp.quniform(\"batch_size\",100,200,10),\n",
        "    'dropout_cnn_block_one':hp.uniform(\"dropout_cnn_block_one\",0.3,0.5),\n",
        "    'dropout_cnn_block_two':hp.uniform(\"dropout_cnn_block_two\",0.3,0.5),\n",
        "    'dropout_cnn_block_three':hp.uniform(\"dropout_cnn_block_three\",0.3,0.5),\n",
        "\n",
        "    \"dropout_dense_block_one\":hp.uniform(\"dropout_dense_block_one\",0.3,0.7),\n",
        "    \"dropout_dense_block_two\":hp.uniform(\"dropout_dense_block_two\",0.3,0.7),\n",
        "}\n",
        "\n",
        "best=fmin(\n",
        "    func_obj,\n",
        "    space,\n",
        "    tpe.suggest,\n",
        "    30,\n",
        "    Trials()\n",
        ")"
      ],
      "execution_count": 35,
      "outputs": [
        {
          "output_type": "stream",
          "text": [
            "{'batch_size': 200.0, 'dropout_cnn_block_one': 0.35847474673292506, 'dropout_cnn_block_three': 0.45385352493222486, 'dropout_cnn_block_two': 0.4450899367604768, 'dropout_dense_block_one': 0.6769733494506012, 'dropout_dense_block_two': 0.3312183621873994}\n",
            "accurarcy=0.8462585210800171\n",
            "{'batch_size': 150.0, 'dropout_cnn_block_one': 0.31411647163732354, 'dropout_cnn_block_three': 0.4154292571225029, 'dropout_cnn_block_two': 0.3721798097310315, 'dropout_dense_block_one': 0.30688554355952374, 'dropout_dense_block_two': 0.49033943697845195}\n",
            "accurarcy=0.9625850319862366\n",
            "{'batch_size': 170.0, 'dropout_cnn_block_one': 0.3697775185470584, 'dropout_cnn_block_three': 0.3366705444863478, 'dropout_cnn_block_two': 0.30657612307171406, 'dropout_dense_block_one': 0.3940241042188785, 'dropout_dense_block_two': 0.3510221177141697}\n",
            "accurarcy=0.9424036145210266\n",
            "{'batch_size': 110.0, 'dropout_cnn_block_one': 0.3760369845207626, 'dropout_cnn_block_three': 0.3166956432460852, 'dropout_cnn_block_two': 0.3643535208856796, 'dropout_dense_block_one': 0.3143655886167898, 'dropout_dense_block_two': 0.5137843518562509}\n",
            "accurarcy=0.9278911352157593\n",
            "{'batch_size': 120.0, 'dropout_cnn_block_one': 0.34777047103425585, 'dropout_cnn_block_three': 0.4079130211801187, 'dropout_cnn_block_two': 0.452828982501334, 'dropout_dense_block_one': 0.5041542557453413, 'dropout_dense_block_two': 0.3089893680361036}\n",
            "accurarcy=0.9451247453689575\n",
            "{'batch_size': 130.0, 'dropout_cnn_block_one': 0.46708158423299506, 'dropout_cnn_block_three': 0.3269534799887368, 'dropout_cnn_block_two': 0.40903074138922535, 'dropout_dense_block_one': 0.6874633066600786, 'dropout_dense_block_two': 0.505839646748731}\n",
            "accurarcy=0.8712018132209778\n",
            "{'batch_size': 180.0, 'dropout_cnn_block_one': 0.3138624851505067, 'dropout_cnn_block_three': 0.4511112665115682, 'dropout_cnn_block_two': 0.36972735453918587, 'dropout_dense_block_one': 0.40800360755334264, 'dropout_dense_block_two': 0.5889482899926031}\n",
            "accurarcy=0.9396825432777405\n",
            "{'batch_size': 150.0, 'dropout_cnn_block_one': 0.34582008106338535, 'dropout_cnn_block_three': 0.4452754693744962, 'dropout_cnn_block_two': 0.38865834753726736, 'dropout_dense_block_one': 0.30790736330372875, 'dropout_dense_block_two': 0.4437265525877244}\n",
            "accurarcy=0.960090696811676\n",
            "{'batch_size': 180.0, 'dropout_cnn_block_one': 0.36626647954100094, 'dropout_cnn_block_three': 0.39069598270405004, 'dropout_cnn_block_two': 0.36350643060900917, 'dropout_dense_block_one': 0.40340533396371875, 'dropout_dense_block_two': 0.39604649402961845}\n",
            "accurarcy=0.9510204195976257\n",
            "{'batch_size': 170.0, 'dropout_cnn_block_one': 0.4576860746804351, 'dropout_cnn_block_three': 0.4215615810977839, 'dropout_cnn_block_two': 0.40773861166118874, 'dropout_dense_block_one': 0.5352664796329422, 'dropout_dense_block_two': 0.5142096757239042}\n",
            "accurarcy=0.9043083786964417\n",
            "{'batch_size': 160.0, 'dropout_cnn_block_one': 0.31935322050548937, 'dropout_cnn_block_three': 0.3806261185162798, 'dropout_cnn_block_two': 0.4292747022624426, 'dropout_dense_block_one': 0.5452029013165051, 'dropout_dense_block_two': 0.3887959063975882}\n",
            "accurarcy=0.9383220076560974\n",
            "{'batch_size': 180.0, 'dropout_cnn_block_one': 0.31085422780918, 'dropout_cnn_block_three': 0.4613045856655155, 'dropout_cnn_block_two': 0.42060943166542014, 'dropout_dense_block_one': 0.6758996472874947, 'dropout_dense_block_two': 0.4750790168290081}\n",
            "accurarcy=0.9331066012382507\n",
            "{'batch_size': 150.0, 'dropout_cnn_block_one': 0.44556290902769613, 'dropout_cnn_block_three': 0.4843620655429531, 'dropout_cnn_block_two': 0.34972090309881815, 'dropout_dense_block_one': 0.4419105342635159, 'dropout_dense_block_two': 0.30558978572630363}\n",
            "accurarcy=0.9453514814376831\n",
            "{'batch_size': 110.0, 'dropout_cnn_block_one': 0.44271261503141973, 'dropout_cnn_block_three': 0.4756688927121846, 'dropout_cnn_block_two': 0.3358904396323857, 'dropout_dense_block_one': 0.6387137717468842, 'dropout_dense_block_two': 0.6513832861436086}\n",
            "accurarcy=0.8993197083473206\n",
            "{'batch_size': 160.0, 'dropout_cnn_block_one': 0.49603795469765793, 'dropout_cnn_block_three': 0.3979850498238844, 'dropout_cnn_block_two': 0.3866873638414716, 'dropout_dense_block_one': 0.5492133121485959, 'dropout_dense_block_two': 0.6185583753002952}\n",
            "accurarcy=0.7836734652519226\n",
            "{'batch_size': 140.0, 'dropout_cnn_block_one': 0.4478401859435024, 'dropout_cnn_block_three': 0.3974607860539141, 'dropout_cnn_block_two': 0.3754376405662012, 'dropout_dense_block_one': 0.6647084531401629, 'dropout_dense_block_two': 0.6275797111385975}\n",
            "accurarcy=0.8267573714256287\n",
            "{'batch_size': 170.0, 'dropout_cnn_block_one': 0.3282285057856987, 'dropout_cnn_block_three': 0.3794563460091669, 'dropout_cnn_block_two': 0.32536866741962156, 'dropout_dense_block_one': 0.6397133818106693, 'dropout_dense_block_two': 0.4048125509202358}\n",
            "accurarcy=0.9596371650695801\n",
            "{'batch_size': 130.0, 'dropout_cnn_block_one': 0.4342496865729846, 'dropout_cnn_block_three': 0.48443776900467944, 'dropout_cnn_block_two': 0.388193048926759, 'dropout_dense_block_one': 0.41051977786946536, 'dropout_dense_block_two': 0.5578577004929854}\n",
            "accurarcy=0.8294784426689148\n",
            "{'batch_size': 110.0, 'dropout_cnn_block_one': 0.303732552289134, 'dropout_cnn_block_three': 0.3378558674682721, 'dropout_cnn_block_two': 0.484656661918916, 'dropout_dense_block_one': 0.39462078992809646, 'dropout_dense_block_two': 0.686854384605761}\n",
            "accurarcy=0.9378684759140015\n",
            "{'batch_size': 170.0, 'dropout_cnn_block_one': 0.3927595023480344, 'dropout_cnn_block_three': 0.39008733034072307, 'dropout_cnn_block_two': 0.40104371792860144, 'dropout_dense_block_one': 0.47137384813194383, 'dropout_dense_block_two': 0.6679902520083397}\n",
            "accurarcy=0.9111111164093018\n",
            "{'batch_size': 140.0, 'dropout_cnn_block_one': 0.33450007084015015, 'dropout_cnn_block_three': 0.43076109312051386, 'dropout_cnn_block_two': 0.32109722278130887, 'dropout_dense_block_one': 0.30652840715396523, 'dropout_dense_block_two': 0.44526283105791475}\n",
            "accurarcy=0.9621315002441406\n",
            "{'batch_size': 140.0, 'dropout_cnn_block_one': 0.41564637621182005, 'dropout_cnn_block_three': 0.4248479973206124, 'dropout_cnn_block_two': 0.3007915254746045, 'dropout_dense_block_one': 0.3429762685073414, 'dropout_dense_block_two': 0.4522498493832724}\n",
            "accurarcy=0.9650793671607971\n",
            "{'batch_size': 140.0, 'dropout_cnn_block_one': 0.41634406657518636, 'dropout_cnn_block_three': 0.36065238626402374, 'dropout_cnn_block_two': 0.30267977120353456, 'dropout_dense_block_one': 0.35922824132960013, 'dropout_dense_block_two': 0.556263918627676}\n",
            "accurarcy=0.9621315002441406\n",
            "{'batch_size': 130.0, 'dropout_cnn_block_one': 0.40351821672054283, 'dropout_cnn_block_three': 0.42461141573797023, 'dropout_cnn_block_two': 0.4951944987815863, 'dropout_dense_block_one': 0.34840923586205663, 'dropout_dense_block_two': 0.47472668622768177}\n",
            "accurarcy=0.898639440536499\n",
            "{'batch_size': 120.0, 'dropout_cnn_block_one': 0.47881595177180175, 'dropout_cnn_block_three': 0.35551885227963453, 'dropout_cnn_block_two': 0.34014070991896833, 'dropout_dense_block_one': 0.353803854913965, 'dropout_dense_block_two': 0.43618589744980935}\n",
            "accurarcy=0.9158729910850525\n",
            "{'batch_size': 200.0, 'dropout_cnn_block_one': 0.42077361216363846, 'dropout_cnn_block_three': 0.4139760547276568, 'dropout_cnn_block_two': 0.47129823939916937, 'dropout_dense_block_one': 0.3353237908999169, 'dropout_dense_block_two': 0.5497472515427241}\n",
            "accurarcy=0.8999999761581421\n",
            "{'batch_size': 150.0, 'dropout_cnn_block_one': 0.4052239350659083, 'dropout_cnn_block_three': 0.4375200140551658, 'dropout_cnn_block_two': 0.30013124625425297, 'dropout_dense_block_one': 0.44673016478188604, 'dropout_dense_block_two': 0.3632120563482647}\n",
            "accurarcy=0.9741496443748474\n",
            "{'batch_size': 160.0, 'dropout_cnn_block_one': 0.3945457951044209, 'dropout_cnn_block_three': 0.43937862765993263, 'dropout_cnn_block_two': 0.3018477261659006, 'dropout_dense_block_one': 0.45075274038389374, 'dropout_dense_block_two': 0.36888672161932906}\n",
            "accurarcy=0.9609977602958679\n",
            "{'batch_size': 120.0, 'dropout_cnn_block_one': 0.3831248636985844, 'dropout_cnn_block_three': 0.46698164420914995, 'dropout_cnn_block_two': 0.3153337760245912, 'dropout_dense_block_one': 0.5945662608837712, 'dropout_dense_block_two': 0.3241160813785192}\n",
            "accurarcy=0.9301587343215942\n",
            "{'batch_size': 190.0, 'dropout_cnn_block_one': 0.41717010106654207, 'dropout_cnn_block_three': 0.49844000157575385, 'dropout_cnn_block_two': 0.34861101405601885, 'dropout_dense_block_one': 0.4960083144474504, 'dropout_dense_block_two': 0.41424366209880265}\n",
            "accurarcy=0.940816342830658\n",
            "100%|██████████| 30/30 [09:58<00:00, 19.95s/it, best loss: -0.9741496443748474]\n"
          ],
          "name": "stdout"
        }
      ]
    },
    {
      "cell_type": "code",
      "metadata": {
        "id": "-y5oarlx5AY0",
        "colab_type": "code",
        "colab": {}
      },
      "source": [
        ""
      ],
      "execution_count": 0,
      "outputs": []
    }
  ]
}